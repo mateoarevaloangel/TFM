{
 "cells": [
  {
   "cell_type": "code",
   "execution_count": 3,
   "id": "e17ca01f-c23d-476b-a5d0-e6b4c91fc510",
   "metadata": {},
   "outputs": [],
   "source": [
    "#pip install rasterio"
   ]
  },
  {
   "cell_type": "code",
   "execution_count": 2,
   "id": "fa1e9ac6-5c29-462d-82be-f1d591a36da6",
   "metadata": {},
   "outputs": [],
   "source": [
    "import rasterio"
   ]
  },
  {
   "cell_type": "code",
   "execution_count": null,
   "id": "6c50217b-4356-4883-8093-0694b9afda14",
   "metadata": {},
   "outputs": [],
   "source": []
  }
 ],
 "metadata": {
  "kernelspec": {
   "display_name": "Python 3 (ipykernel)",
   "language": "python",
   "name": "python3"
  },
  "language_info": {
   "codemirror_mode": {
    "name": "ipython",
    "version": 3
   },
   "file_extension": ".py",
   "mimetype": "text/x-python",
   "name": "python",
   "nbconvert_exporter": "python",
   "pygments_lexer": "ipython3",
   "version": "3.11.5"
  }
 },
 "nbformat": 4,
 "nbformat_minor": 5
}
