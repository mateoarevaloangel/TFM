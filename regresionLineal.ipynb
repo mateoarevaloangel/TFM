{
 "cells": [
  {
   "cell_type": "markdown",
   "id": "b480d3bd-8775-4e41-ba81-2530bf591e48",
   "metadata": {},
   "source": [
    "priemro calculamos el indice de alguna de las imagenes"
   ]
  },
  {
   "cell_type": "code",
   "execution_count": 1,
   "id": "5f6c134a-f320-49cb-9438-f690c12c0259",
   "metadata": {
    "tags": []
   },
   "outputs": [
    {
     "name": "stdout",
     "output_type": "stream",
     "text": [
      "La media de la lista es: 6.0\n"
     ]
    }
   ],
   "source": [
    "import numpy as np\n",
    "\n",
    "lista = [2, 4, 6, 8, 10]\n",
    "media = np.mean(lista)\n",
    "print(\"La media de la lista es:\", media)\n"
   ]
  },
  {
   "cell_type": "code",
   "execution_count": null,
   "id": "acbbe634-5748-4f87-a93e-fbe1be8358fb",
   "metadata": {},
   "outputs": [],
   "source": []
  },
  {
   "cell_type": "code",
   "execution_count": null,
   "id": "6e09bfb4-fa17-4bdb-8faa-1353f4765a0b",
   "metadata": {},
   "outputs": [],
   "source": []
  }
 ],
 "metadata": {
  "kernelspec": {
   "display_name": "Python 3 (ipykernel)",
   "language": "python",
   "name": "python3"
  },
  "language_info": {
   "codemirror_mode": {
    "name": "ipython",
    "version": 3
   },
   "file_extension": ".py",
   "mimetype": "text/x-python",
   "name": "python",
   "nbconvert_exporter": "python",
   "pygments_lexer": "ipython3",
   "version": "3.11.5"
  }
 },
 "nbformat": 4,
 "nbformat_minor": 5
}
