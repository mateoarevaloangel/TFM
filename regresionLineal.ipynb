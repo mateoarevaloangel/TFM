{
 "cells": [
  {
   "cell_type": "markdown",
   "id": "b480d3bd-8775-4e41-ba81-2530bf591e48",
   "metadata": {},
   "source": [
    "priemro calculamos el indice de alguna de las imagenes"
   ]
  },
  {
   "cell_type": "code",
   "execution_count": 2,
   "id": "5f6c134a-f320-49cb-9438-f690c12c0259",
   "metadata": {
    "tags": []
   },
   "outputs": [
    {
     "name": "stdout",
     "output_type": "stream",
     "text": [
      "La media de la lista es: 6.0\n"
     ]
    }
   ],
   "source": [
    "import numpy as np\n",
    "import matplotlib.pyplot as plt\n",
    "from PIL import Image\n",
    "\n",
    "lista = [2, 4, 6, 8, 10]\n",
    "media = np.mean(lista)\n",
    "print(\"La media de la lista es:\", media)\n"
   ]
  },
  {
   "cell_type": "code",
   "execution_count": 20,
   "id": "6e09bfb4-fa17-4bdb-8faa-1353f4765a0b",
   "metadata": {},
   "outputs": [],
   "source": [
    "bandas = ['B01', 'B02', 'B03', 'B04', 'B05', 'B06', 'B07', 'B08', 'B8A', 'B09', 'B11', 'B12', 'WVP', 'AOT', 'SCL', 'sunAzimuthAngles', 'sunZenithAngles', 'viewAzimuthMean', 'viewZenithMean']\n",
    "datesTrain = [[\"2022-01-01\", \"2022-01-28\"],[\"2022-02-01\", \"2022-02-28\"],[\"2022-03-01\", \"2022-03-28\"],[\"2022-04-01\", \"2022-04-28\"],[\"2022-05-01\", \"2022-05-28\"],[\"2022-06-01\", \"2022-06-28\"],\n",
    "              [\"2022-07-01\", \"2022-07-28\"],[\"2022-08-01\", \"2022-08-28\"],[\"2022-09-01\", \"2022-09-28\"],[\"2022-10-01\", \"2022-10-28\"],[\"2022-11-01\", \"2022-11-28\"],\n",
    "              [\"2022-12-01\", \"2022-12-28\"],[\"2023-01-01\", \"2023-01-28\"],[\"2023-02-01\", \"2023-02-28\"],[\"2023-03-01\", \"2023-03-28\"],[\"2023-04-01\", \"2023-04-28\"],[\"2023-05-01\", \"2023-05-28\"]\n",
    "               ];\n",
    "mes = [1,2,3,4,5,6,7,8,9,10,11,12,13,14,15,16];\n",
    "datesTest = [[\"2023-05-01\", \"2023-05-28\"]];\n",
    "indicesNDVI =[]\n",
    "meanNDVI = []\n",
    "#for banda in bandas:\n",
    "for date in datesTrain:\n",
    "    #print(f\"DB/{date[1]}banda{bandas[3]}.TIF\")\n",
    "    banda4 = np.asarray(Image.open(f\"DB/{date[1]}banda{bandas[3]}.TIF\"))    \n",
    "    banda8A = np.asarray(Image.open(f\"DB/{date[1]}banda{bandas[8]}.TIF\"))\n",
    "    #NORMALIZAR LA MUESTRA\n",
    "    #banda4_norm = banda4 / banda4.max()\n",
    "    #banda8A_norm = banda8A / banda8A.max()\n",
    "    indicesNDVI.append((banda8A-banda4)/(banda8A+banda4))\n",
    "    meanNDVI.append(np.mean(indicesNDVI))\n",
    "    #plt.imshow(NDVI)\n",
    "            \n",
    "#plt.imshow(indicesNDVI[0])\n",
    "meanNDVItrain = meanNDVI[:len(meanNDVI)-1]\n",
    "meanNDVItest = meanNDVI[len(meanNDVI)-1:]"
   ]
  },
  {
   "cell_type": "code",
   "execution_count": 21,
   "id": "ef678425-ec10-4df7-bbff-9c9e294473b2",
   "metadata": {},
   "outputs": [
    {
     "name": "stdout",
     "output_type": "stream",
     "text": [
      "1\n"
     ]
    }
   ],
   "source": [
    "mediaArray = np.mean(meanNDVItrain[2])\n",
    "#print(\"La media de la lista es:\", media)\n",
    "print(len(meanNDVItest))"
   ]
  },
  {
   "cell_type": "markdown",
   "id": "89b41262-51ce-4588-ae83-a78011f6e3bb",
   "metadata": {},
   "source": [
    "En este primer ejercisio usare el ajuste polinomial para generar un polinomio que prediga el resultado del valor promedio del NDVI en este caso probare con un polinomio de grado 2\n"
   ]
  },
  {
   "cell_type": "code",
   "execution_count": 38,
   "id": "0ec70903-b2eb-4e8d-9515-6d8ccb870630",
   "metadata": {},
   "outputs": [
    {
     "name": "stdout",
     "output_type": "stream",
     "text": [
      "el valor predicho para el mes 5 de 2023 es de: 0.4090781763392195 y el valor real es 0.5167591701714447\n",
      "error de: 0.10768099383222518\n",
      "error del %: 4.79898217671164\n",
      "[0.006691914845392028, 0.1924991114094102, 0.283805117331982, 0.3527514713005765, 0.39445004398372335, 0.43900536525471406, 0.47103401286730523, 0.4892557797972479, 0.5038963450813135, 0.5168614082944899, 0.5291247013990276, 0.5247684897588584, 0.5228644756164663, 0.5112301764824413, 0.510061895880231, 0.5109186452414731]\n"
     ]
    }
   ],
   "source": [
    "coef = np.polyfit(mes,meanNDVItrain,4)\n",
    "predict = np.polyval(coef, 5);\n",
    "print(f\"el valor predicho para el mes 5 de 2023 es de: {predict} y el valor real es {meanNDVItest[0]}\")\n",
    "print(f\"error de: {abs(predict-meanNDVItest[0])}\")\n",
    "print(f\"error del %: {meanNDVItest[0]/abs(predict-meanNDVItest[0])}\")\n",
    "print(meanNDVItrain)"
   ]
  },
  {
   "cell_type": "code",
   "execution_count": 37,
   "id": "a009ceff-84e4-4533-9e5b-211532210574",
   "metadata": {},
   "outputs": [
    {
     "data": {
      "image/png": "[encoded data removed]",
      "text/plain": [
       "<Figure size 200x200 with 1 Axes>"
      ]
     },
     "metadata": {},
     "output_type": "display_data"
    }
   ],
   "source": [
    "import matplotlib.pyplot as plt\n",
    "\n",
    "plt.style.use('_mpl-gallery')\n",
    "# plot\n",
    "fig, ax = plt.subplots()\n",
    "ax.plot(mes, meanNDVItrain, 'x', markeredgewidth=2)\n",
    "#ax.plot(mes, meanNDVItrain, linewidth=2.0)\n",
    "#ax.plot(mes, meanNDVItrain, 'o-', linewidth=2)\n",
    "plt.show()\n"
   ]
  },
  {
   "cell_type": "code",
   "execution_count": null,
   "id": "5810f5ed-204b-4fd5-ae49-97ea938d5168",
   "metadata": {},
   "outputs": [],
   "source": [
    "NDVI = (banda8A_norm-banda4_norm)/(banda8A_norm+banda4_norm)\n",
    "plt.imshow(NDVI)"
   ]
  }
 ],
 "metadata": {
  "kernelspec": {
   "display_name": "Python 3 (ipykernel)",
   "language": "python",
   "name": "python3"
  },
  "language_info": {
   "codemirror_mode": {
    "name": "ipython",
    "version": 3
   },
   "file_extension": ".py",
   "mimetype": "text/x-python",
   "name": "python",
   "nbconvert_exporter": "python",
   "pygments_lexer": "ipython3",
   "version": "3.12.3"
  }
 },
 "nbformat": 4,
 "nbformat_minor": 5
}
