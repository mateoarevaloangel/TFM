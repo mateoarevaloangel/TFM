{
 "cells": [
  {
   "cell_type": "code",
   "execution_count": 4,
   "id": "97b0f00b-f8b4-4337-b2e7-0f735260b41c",
   "metadata": {
    "tags": []
   },
   "outputs": [
    {
     "data": {
      "text/html": [
       "Visit <a href=\"https://identity.dataspace.copernicus.eu/auth/realms/CDSE/device?user_code=TVSI-RRLP\" title=\"Authenticate at https://identity.dataspace.copernicus.eu/auth/realms/CDSE/device?user_code=TVSI-RRLP\" target=\"_blank\" rel=\"noopener noreferrer\">https://identity.dataspace.copernicus.eu/auth/realms/CDSE/device?user_code=TVSI-RRLP</a> <a href=\"#\" onclick=\"navigator.clipboard.writeText('https://identity.dataspace.copernicus.eu/auth/realms/CDSE/device?user_code=TVSI-RRLP');return false;\" title=\"Copy authentication URL to clipboard\">&#128203;</a> to authenticate."
      ]
     },
     "metadata": {},
     "output_type": "display_data"
    },
    {
     "data": {
      "text/html": [
       "✅ Authorized successfully"
      ]
     },
     "metadata": {},
     "output_type": "display_data"
    },
    {
     "name": "stdout",
     "output_type": "stream",
     "text": [
      "Authenticated using device code flow.\n",
      "descargando 2023-02-28bandaB01.TIF\n",
      "descargando 2023-04-28bandaB01.TIF\n",
      "descargando 2023-04-28bandaB01.TIF\n",
      "descargando 2023-05-28bandaB01.TIF\n",
      "descargando 2023-02-28bandaB02.TIF\n",
      "descargando 2023-04-28bandaB02.TIF\n",
      "descargando 2023-04-28bandaB02.TIF\n",
      "descargando 2023-05-28bandaB02.TIF\n",
      "descargando 2023-02-28bandaB03.TIF\n",
      "descargando 2023-04-28bandaB03.TIF\n",
      "descargando 2023-04-28bandaB03.TIF\n",
      "descargando 2023-05-28bandaB03.TIF\n",
      "descargando 2023-02-28bandaB04.TIF\n",
      "descargando 2023-04-28bandaB04.TIF\n",
      "descargando 2023-04-28bandaB04.TIF\n",
      "descargando 2023-05-28bandaB04.TIF\n",
      "descargando 2023-02-28bandaB05.TIF\n",
      "descargando 2023-04-28bandaB05.TIF\n",
      "descargando 2023-04-28bandaB05.TIF\n",
      "descargando 2023-05-28bandaB05.TIF\n",
      "descargando 2023-02-28bandaB06.TIF\n",
      "descargando 2023-04-28bandaB06.TIF\n",
      "descargando 2023-04-28bandaB06.TIF\n",
      "descargando 2023-05-28bandaB06.TIF\n",
      "descargando 2023-02-28bandaB07.TIF\n",
      "descargando 2023-04-28bandaB07.TIF\n",
      "descargando 2023-04-28bandaB07.TIF\n",
      "descargando 2023-05-28bandaB07.TIF\n",
      "descargando 2023-02-28bandaB08.TIF\n",
      "descargando 2023-04-28bandaB08.TIF\n",
      "descargando 2023-04-28bandaB08.TIF\n",
      "descargando 2023-05-28bandaB08.TIF\n",
      "descargando 2023-02-28bandaB8A.TIF\n",
      "descargando 2023-04-28bandaB8A.TIF\n",
      "descargando 2023-04-28bandaB8A.TIF\n",
      "descargando 2023-05-28bandaB8A.TIF\n",
      "descargando 2023-02-28bandaB09.TIF\n",
      "descargando 2023-04-28bandaB09.TIF\n",
      "descargando 2023-04-28bandaB09.TIF\n",
      "descargando 2023-05-28bandaB09.TIF\n",
      "descargando 2023-02-28bandaB11.TIF\n",
      "descargando 2023-04-28bandaB11.TIF\n",
      "descargando 2023-04-28bandaB11.TIF\n",
      "descargando 2023-05-28bandaB11.TIF\n",
      "descargando 2023-02-28bandaB12.TIF\n",
      "descargando 2023-04-28bandaB12.TIF\n",
      "descargando 2023-04-28bandaB12.TIF\n",
      "descargando 2023-05-28bandaB12.TIF\n",
      "descargando 2023-02-28bandaWVP.TIF\n",
      "descargando 2023-04-28bandaWVP.TIF\n",
      "descargando 2023-04-28bandaWVP.TIF\n",
      "descargando 2023-05-28bandaWVP.TIF\n",
      "descargando 2023-02-28bandaAOT.TIF\n",
      "descargando 2023-04-28bandaAOT.TIF\n",
      "descargando 2023-04-28bandaAOT.TIF\n",
      "descargando 2023-05-28bandaAOT.TIF\n",
      "descargando 2023-02-28bandaSCL.TIF\n",
      "descargando 2023-04-28bandaSCL.TIF\n",
      "descargando 2023-04-28bandaSCL.TIF\n",
      "descargando 2023-05-28bandaSCL.TIF\n",
      "descargando 2023-02-28bandasunAzimuthAngles.TIF\n",
      "descargando 2023-04-28bandasunAzimuthAngles.TIF\n",
      "descargando 2023-04-28bandasunAzimuthAngles.TIF\n",
      "descargando 2023-05-28bandasunAzimuthAngles.TIF\n",
      "descargando 2023-02-28bandasunZenithAngles.TIF\n",
      "descargando 2023-04-28bandasunZenithAngles.TIF\n",
      "descargando 2023-04-28bandasunZenithAngles.TIF\n",
      "descargando 2023-05-28bandasunZenithAngles.TIF\n",
      "descargando 2023-02-28bandaviewAzimuthMean.TIF\n",
      "descargando 2023-04-28bandaviewAzimuthMean.TIF\n",
      "descargando 2023-04-28bandaviewAzimuthMean.TIF\n",
      "descargando 2023-05-28bandaviewAzimuthMean.TIF\n",
      "descargando 2023-02-28bandaviewZenithMean.TIF\n",
      "descargando 2023-04-28bandaviewZenithMean.TIF\n",
      "descargando 2023-04-28bandaviewZenithMean.TIF\n",
      "descargando 2023-05-28bandaviewZenithMean.TIF\n"
     ]
    }
   ],
   "source": [
    "import openeo\n",
    "\n",
    "# First, we connect to the back-end and authenticate. \n",
    "con = openeo.connect(\"openeo.dataspace.copernicus.eu\")\n",
    "con.authenticate_oidc()\n",
    "bandas = ['B01', 'B02', 'B03', 'B04', 'B05', 'B06', 'B07', 'B08', 'B8A', 'B09', 'B11', 'B12', 'WVP', 'AOT', 'SCL', 'sunAzimuthAngles', 'sunZenithAngles', 'viewAzimuthMean', 'viewZenithMean']\n",
    "fechas = [[\"2023-02-01\", \"2023-02-28\"],[\"2023-03-01\", \"2023-04-28\"],[\"2023-04-01\", \"2023-04-28\"],[\"2023-05-01\", \"2023-05-28\"]];\n",
    "for banda in bandas:\n",
    "    for fecha in fechas:\n",
    "        print(f\"descargando {fecha[1]}banda{banda}.TIF\")"
   ]
  },
  {
   "cell_type": "code",
   "execution_count": null,
   "id": "da62bf6b-f8a8-4dea-a4e9-1f93921c3b4b",
   "metadata": {},
   "outputs": [],
   "source": []
  }
 ],
 "metadata": {
  "kernelspec": {
   "display_name": "Python 3 (ipykernel)",
   "language": "python",
   "name": "python3"
  },
  "language_info": {
   "codemirror_mode": {
    "name": "ipython",
    "version": 3
   },
   "file_extension": ".py",
   "mimetype": "text/x-python",
   "name": "python",
   "nbconvert_exporter": "python",
   "pygments_lexer": "ipython3",
   "version": "3.12.3"
  }
 },
 "nbformat": 4,
 "nbformat_minor": 5
}
