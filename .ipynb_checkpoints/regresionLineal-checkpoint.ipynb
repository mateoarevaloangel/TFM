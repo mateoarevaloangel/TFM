{
 "cells": [
  {
   "cell_type": "markdown",
   "id": "b480d3bd-8775-4e41-ba81-2530bf591e48",
   "metadata": {},
   "source": [
    "priemro calculamos el indice de alguna de las imagenes"
   ]
  },
  {
   "cell_type": "code",
   "execution_count": 2,
   "id": "5f6c134a-f320-49cb-9438-f690c12c0259",
   "metadata": {
    "tags": []
   },
   "outputs": [
    {
     "name": "stdout",
     "output_type": "stream",
     "text": [
      "La media de la lista es: 6.0\n"
     ]
    }
   ],
   "source": [
    "import numpy as np\n",
    "import matplotlib.pyplot as plt\n",
    "from PIL import Image\n",
    "\n",
    "lista = [2, 4, 6, 8, 10]\n",
    "media = np.mean(lista)\n",
    "print(\"La media de la lista es:\", media)\n"
   ]
  },
  {
   "cell_type": "code",
   "execution_count": 38,
   "id": "6e09bfb4-fa17-4bdb-8faa-1353f4765a0b",
   "metadata": {},
   "outputs": [],
   "source": [
    "bandas = ['B01', 'B02', 'B03', 'B04', 'B05', 'B06', 'B07', 'B08', 'B8A', 'B09', 'B11', 'B12', 'WVP', 'AOT', 'SCL', 'sunAzimuthAngles', 'sunZenithAngles', 'viewAzimuthMean', 'viewZenithMean']\n",
    "datesTrain = [[\"2022-02-01\", \"2022-02-28\"],[\"2022-03-01\", \"2022-03-28\"],[\"2022-04-01\", \"2022-04-28\"],[\"2022-05-01\", \"2022-05-28\"],[\"2022-06-01\", \"2022-06-28\"],[\"2022-07-01\", \"2022-07-28\"],[\"2022-08-01\", \"2022-08-28\"],[\"2022-09-01\", \"2022-09-28\"],[\"2022-10-01\", \"2022-10-28\"],[\"2022-11-01\", \"2022-11-28\"],[\"2022-12-01\", \"2022-12-28\"],[\"2023-02-01\", \"2023-02-28\"],[\"2023-03-01\", \"2023-03-28\"],[\"2023-04-01\", \"2023-04-28\"],[\"2023-05-01\", \"2023-05-28\"]];\n",
    "mes = [2,3,4];\n",
    "datesTest = [[\"2023-05-01\", \"2023-05-28\"]];\n",
    "indicesNDVI =[]\n",
    "meanNDVI = []\n",
    "#for banda in bandas:\n",
    "for date in datesTrain:\n",
    "    #print(f\"DB/{date[1]}banda{bandas[3]}.TIF\")\n",
    "    banda4 = np.asarray(Image.open(f\"DB/{date[1]}banda{bandas[3]}.TIF\"))    \n",
    "    banda8A = np.asarray(Image.open(f\"DB/{date[1]}banda{bandas[8]}.TIF\"))\n",
    "    #NORMALIZAR LA MUESTRA\n",
    "    #banda4_norm = banda4 / banda4.max()\n",
    "    #banda8A_norm = banda8A / banda8A.max()\n",
    "    indicesNDVI.append((banda8A-banda4)/(banda8A+banda4))\n",
    "    meanNDVI.append(np.mean(indicesNDVI))\n",
    "    #plt.imshow(NDVI)\n",
    "            \n",
    "#plt.imshow(indicesNDVI[0])\n",
    "meanNDVItrain = meanNDVI[:3]\n",
    "meanNDVItest = meanNDVI[3:]"
   ]
  },
  {
   "cell_type": "code",
   "execution_count": 40,
   "id": "ef678425-ec10-4df7-bbff-9c9e294473b2",
   "metadata": {},
   "outputs": [
    {
     "name": "stdout",
     "output_type": "stream",
     "text": [
      "3\n"
     ]
    }
   ],
   "source": [
    "mediaArray = np.mean(meanNDVItrain[2])\n",
    "#print(\"La media de la lista es:\", media)\n",
    "print(len(meanNDVItrain))"
   ]
  },
  {
   "cell_type": "markdown",
   "id": "89b41262-51ce-4588-ae83-a78011f6e3bb",
   "metadata": {},
   "source": [
    "En este primer ejercisio usare el ajuste polinomial para generar un polinomio que prediga el resultado del valor promedio del NDVI en este caso probare con un polinomio de grado 2\n"
   ]
  },
  {
   "cell_type": "code",
   "execution_count": 42,
   "id": "0ec70903-b2eb-4e8d-9515-6d8ccb870630",
   "metadata": {},
   "outputs": [
    {
     "name": "stdout",
     "output_type": "stream",
     "text": [
      "el valor predicho para el mes 5 de 2023 es de: 0.5341629862529248 y el valor real es 0.5355438976988277\n",
      "error de: 0.0013809114459029104\n"
     ]
    }
   ],
   "source": [
    "coef = np.polyfit(mes,meanNDVItrain,2)\n",
    "predict = np.polyval(coef, 5);\n",
    "print(f\"el valor predicho para el mes 5 de 2023 es de: {predict} y el valor real es {meanNDVItest[0]}\")\n",
    "print(f\"error de: {abs(predict-meanNDVItest[0])}\")"
   ]
  },
  {
   "cell_type": "code",
   "execution_count": null,
   "id": "a009ceff-84e4-4533-9e5b-211532210574",
   "metadata": {},
   "outputs": [],
   "source": []
  }
 ],
 "metadata": {
  "kernelspec": {
   "display_name": "Python 3 (ipykernel)",
   "language": "python",
   "name": "python3"
  },
  "language_info": {
   "codemirror_mode": {
    "name": "ipython",
    "version": 3
   },
   "file_extension": ".py",
   "mimetype": "text/x-python",
   "name": "python",
   "nbconvert_exporter": "python",
   "pygments_lexer": "ipython3",
   "version": "3.12.3"
  }
 },
 "nbformat": 4,
 "nbformat_minor": 5
}
