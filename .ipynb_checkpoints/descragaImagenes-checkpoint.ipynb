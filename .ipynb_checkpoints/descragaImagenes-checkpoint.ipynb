{
 "cells": [
  {
   "cell_type": "code",
   "execution_count": null,
   "id": "2de73608-deb0-46eb-9878-8c25d2dd3d53",
   "metadata": {},
   "outputs": [],
   "source": [
    "import openeo\n",
    "\n",
    "# First, we connect to the back-end and authenticate. \n",
    "con = openeo.connect(\"openeo.dataspace.copernicus.eu\")\n",
    "con.authenticate_oidc()\n",
    "bandas = ['B01', 'B02', 'B03', 'B04', 'B05', 'B06', 'B07', 'B08', 'B8A', 'B09', 'B11', 'B12', 'WVP', 'AOT', 'SCL', 'sunAzimuthAngles', 'sunZenithAngles', 'viewAzimuthMean', 'viewZenithMean']\n",
    "fechas = [[\"2023-02-01\", \"2023-02-28\"],[\"2023-03-01\", \"2023-04-28\"],[\"2023-04-01\", \"2023-04-28\"],[\"2023-05-01\", \"2023-05-28\"]];\n"
   ]
  },
  {
   "cell_type": "code",
   "execution_count": 3,
   "id": "b3f36988-b87d-4811-952a-2eebc15e5eaa",
   "metadata": {
    "tags": []
   },
   "outputs": [],
   "source": [
    "def descaragar():    \n",
    "    # Now that we are connected, we can initialize our datacube object with the area of interest \n",
    "    # and the time range of interest using Sentinel 1 data.\n",
    "    for banda in bandas:\n",
    "        for fecha in fechas:\n",
    "            datacube1 = con.load_collection(\n",
    "                \"SENTINEL2_L2A\",\n",
    "                spatial_extent={\"west\": 5.14, \"south\": 51.17, \"east\": 5.17, \"north\": 51.19},\n",
    "                temporal_extent = fecha,\n",
    "                bands=[banda],#[\"B02\", \"B04\", \"B08\"],\n",
    "                max_cloud_cover=35,\n",
    "            )\n",
    "\n",
    "            datacube1.download(f\"DB/{fecha[1]}banda{banda}.TIF\")\n",
    "            print(f\"descargando {fecha[1]}banda{banda}.TIF\")\n",
    "\n",
    "    "
   ]
  },
  {
   "cell_type": "code",
   "execution_count": null,
   "id": "26816fed-52d5-47b4-a8bf-110657cb92ee",
   "metadata": {},
   "outputs": [],
   "source": []
  }
 ],
 "metadata": {
  "kernelspec": {
   "display_name": "Python 3 (ipykernel)",
   "language": "python",
   "name": "python3"
  },
  "language_info": {
   "codemirror_mode": {
    "name": "ipython",
    "version": 3
   },
   "file_extension": ".py",
   "mimetype": "text/x-python",
   "name": "python",
   "nbconvert_exporter": "python",
   "pygments_lexer": "ipython3",
   "version": "3.11.5"
  }
 },
 "nbformat": 4,
 "nbformat_minor": 5
}
