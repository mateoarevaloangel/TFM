{
 "cells": [
  {
   "cell_type": "code",
   "execution_count": 10,
   "id": "2de73608-deb0-46eb-9878-8c25d2dd3d53",
   "metadata": {
    "tags": []
   },
   "outputs": [
    {
     "name": "stdout",
     "output_type": "stream",
     "text": [
      "Authenticated using refresh token.\n"
     ]
    },
    {
     "data": {
      "text/plain": [
       "<Connection to 'https://openeo.dataspace.copernicus.eu/openeo/1.2/' with OidcBearerAuth>"
      ]
     },
     "execution_count": 10,
     "metadata": {},
     "output_type": "execute_result"
    }
   ],
   "source": [
    "import openeo\n",
    "import time\n",
    "\n",
    "# First, we connect to the back-end and authenticate. \n",
    "con = openeo.connect(\"openeo.dataspace.copernicus.eu\")\n",
    "con.authenticate_oidc()\n"
   ]
  },
  {
   "cell_type": "code",
   "execution_count": 13,
   "id": "b3f36988-b87d-4811-952a-2eebc15e5eaa",
   "metadata": {
    "tags": []
   },
   "outputs": [],
   "source": [
    "bandas = ['B01', 'B02', 'B03', 'B04', 'B05', 'B06', 'B07', 'B08', 'B8A', 'B09', 'B11', 'B12', 'WVP', 'AOT', 'SCL', 'sunAzimuthAngles', 'sunZenithAngles', 'viewAzimuthMean', 'viewZenithMean']\n",
    "bandas = ['B04','B08', 'B8A']\n",
    "#fechas = [[\"2023-02-01\", \"2023-02-28\"],[\"2023-03-01\", \"2023-03-28\"],[\"2023-04-01\", \"2023-04-28\"],[\"2023-05-01\", \"2023-05-28\"]];\n",
    "#fechas = [[\"2022-09-01\", \"2022-09-28\"],[\"2022-10-01\", \"2022-10-28\"],[\"2022-11-01\", \"2022-11-28\"],[\"2022-12-01\", \"2022-12-28\"]];\n",
    "#fechas = [[\"2023-06-01\", \"2023-06-30\"],[\"2023-07-01\", \"2023-07-30\"],[\"2023-08-01\", \"2023-08-30\"],[\"2023-09-01\", \"2023-09-30\"]];\n",
    "#fechas = [[\"2023-06-01\", \"2023-06-30\"],[\"2023-07-01\", \"2023-07-30\"],[\"2023-08-01\", \"2023-08-30\"],[\"2023-09-01\", \"2023-09-30\"]\n",
    "          #,[\"2023-10-01\", \"2023-10-30\"],[\"2023-11-01\", \"2023-11-30\"],[\"2023-12-01\", \"2023-12-30\"]];\n",
    "fechas = [[\"2022-02-01\", \"2022-02-28\"],[\"2022-03-01\", \"2022-03-28\"],[\"2022-04-01\", \"2022-04-28\"],[\"2022-05-01\", \"2022-05-28\"]];\n",
    "def descargar():    \n",
    "    # Now that we are connected, we can initialize our datacube object with the area of interest \n",
    "    # and the time range of interest using Sentinel 1 data.\n",
    "    for banda in bandas:\n",
    "        for fecha in fechas:\n",
    "            con.authenticate_oidc()\n",
    "            datacube1 = con.load_collection(\n",
    "                \"SENTINEL2_L2A\",\n",
    "                spatial_extent={\"west\": 5.14, \"south\": 51.17, \"east\": 5.17, \"north\": 51.19},\n",
    "                temporal_extent = fecha,\n",
    "                bands=[banda],#[\"B02\", \"B04\", \"B08\"],\n",
    "                max_cloud_cover=40,\n",
    "            )\n",
    "\n",
    "            datacube1.download(f\"DB/{fecha[1]}banda{banda}.TIF\")\n",
    "            print(f\"descargando {fecha[1]}banda{banda}.TIF\")\n",
    "            time.sleep(30)\n",
    "\n"
   ]
  },
  {
   "cell_type": "code",
   "execution_count": 14,
   "id": "26816fed-52d5-47b4-a8bf-110657cb92ee",
   "metadata": {
    "tags": []
   },
   "outputs": [
    {
     "name": "stdout",
     "output_type": "stream",
     "text": [
      "Authenticated using refresh token.\n",
      "descargando 2023-06-30bandaB04.TIF\n",
      "Authenticated using refresh token.\n"
     ]
    },
    {
     "ename": "OpenEoApiError",
     "evalue": "[400] NoDataAvailable: There is no data available for the given extents. Could not find data for your load_collection request with catalog ID \"Sentinel2\". The catalog query had correlation ID \"r-241106ab6fe645449e864290426594b8\" and returned 0 results. (ref: r-241106ab6fe645449e864290426594b8)",
     "output_type": "error",
     "traceback": [
      "\u001b[1;31m---------------------------------------------------------------------------\u001b[0m",
      "\u001b[1;31mOpenEoApiError\u001b[0m                            Traceback (most recent call last)",
      "Cell \u001b[1;32mIn[14], line 1\u001b[0m\n\u001b[1;32m----> 1\u001b[0m descargar()\n",
      "Cell \u001b[1;32mIn[13], line 22\u001b[0m, in \u001b[0;36mdescargar\u001b[1;34m()\u001b[0m\n\u001b[0;32m     13\u001b[0m con\u001b[38;5;241m.\u001b[39mauthenticate_oidc()\n\u001b[0;32m     14\u001b[0m datacube1 \u001b[38;5;241m=\u001b[39m con\u001b[38;5;241m.\u001b[39mload_collection(\n\u001b[0;32m     15\u001b[0m     \u001b[38;5;124m\"\u001b[39m\u001b[38;5;124mSENTINEL2_L2A\u001b[39m\u001b[38;5;124m\"\u001b[39m,\n\u001b[0;32m     16\u001b[0m     spatial_extent\u001b[38;5;241m=\u001b[39m{\u001b[38;5;124m\"\u001b[39m\u001b[38;5;124mwest\u001b[39m\u001b[38;5;124m\"\u001b[39m: \u001b[38;5;241m5.14\u001b[39m, \u001b[38;5;124m\"\u001b[39m\u001b[38;5;124msouth\u001b[39m\u001b[38;5;124m\"\u001b[39m: \u001b[38;5;241m51.17\u001b[39m, \u001b[38;5;124m\"\u001b[39m\u001b[38;5;124meast\u001b[39m\u001b[38;5;124m\"\u001b[39m: \u001b[38;5;241m5.17\u001b[39m, \u001b[38;5;124m\"\u001b[39m\u001b[38;5;124mnorth\u001b[39m\u001b[38;5;124m\"\u001b[39m: \u001b[38;5;241m51.19\u001b[39m},\n\u001b[1;32m   (...)\u001b[0m\n\u001b[0;32m     19\u001b[0m     max_cloud_cover\u001b[38;5;241m=\u001b[39m\u001b[38;5;241m40\u001b[39m,\n\u001b[0;32m     20\u001b[0m )\n\u001b[1;32m---> 22\u001b[0m datacube1\u001b[38;5;241m.\u001b[39mdownload(\u001b[38;5;124mf\u001b[39m\u001b[38;5;124m\"\u001b[39m\u001b[38;5;124mDB/\u001b[39m\u001b[38;5;132;01m{\u001b[39;00mfecha[\u001b[38;5;241m1\u001b[39m]\u001b[38;5;132;01m}\u001b[39;00m\u001b[38;5;124mbanda\u001b[39m\u001b[38;5;132;01m{\u001b[39;00mbanda\u001b[38;5;132;01m}\u001b[39;00m\u001b[38;5;124m.TIF\u001b[39m\u001b[38;5;124m\"\u001b[39m)\n\u001b[0;32m     23\u001b[0m \u001b[38;5;28mprint\u001b[39m(\u001b[38;5;124mf\u001b[39m\u001b[38;5;124m\"\u001b[39m\u001b[38;5;124mdescargando \u001b[39m\u001b[38;5;132;01m{\u001b[39;00mfecha[\u001b[38;5;241m1\u001b[39m]\u001b[38;5;132;01m}\u001b[39;00m\u001b[38;5;124mbanda\u001b[39m\u001b[38;5;132;01m{\u001b[39;00mbanda\u001b[38;5;132;01m}\u001b[39;00m\u001b[38;5;124m.TIF\u001b[39m\u001b[38;5;124m\"\u001b[39m)\n\u001b[0;32m     24\u001b[0m time\u001b[38;5;241m.\u001b[39msleep(\u001b[38;5;241m30\u001b[39m)\n",
      "File \u001b[1;32m~\\anaconda3\\Lib\\site-packages\\openeo\\rest\\datacube.py:2267\u001b[0m, in \u001b[0;36mDataCube.download\u001b[1;34m(self, outputfile, format, options, validate, auto_add_save_result)\u001b[0m\n\u001b[0;32m   2258\u001b[0m \u001b[38;5;28;01mif\u001b[39;00m auto_add_save_result:\n\u001b[0;32m   2259\u001b[0m     cube \u001b[38;5;241m=\u001b[39m _ensure_save_result(\n\u001b[0;32m   2260\u001b[0m         cube\u001b[38;5;241m=\u001b[39mcube,\n\u001b[0;32m   2261\u001b[0m         \u001b[38;5;28mformat\u001b[39m\u001b[38;5;241m=\u001b[39m\u001b[38;5;28mformat\u001b[39m,\n\u001b[1;32m   (...)\u001b[0m\n\u001b[0;32m   2265\u001b[0m         method\u001b[38;5;241m=\u001b[39m\u001b[38;5;124m\"\u001b[39m\u001b[38;5;124mDataCube.download()\u001b[39m\u001b[38;5;124m\"\u001b[39m,\n\u001b[0;32m   2266\u001b[0m     )\n\u001b[1;32m-> 2267\u001b[0m \u001b[38;5;28;01mreturn\u001b[39;00m \u001b[38;5;28mself\u001b[39m\u001b[38;5;241m.\u001b[39m_connection\u001b[38;5;241m.\u001b[39mdownload(cube\u001b[38;5;241m.\u001b[39mflat_graph(), outputfile, validate\u001b[38;5;241m=\u001b[39mvalidate)\n",
      "File \u001b[1;32m~\\anaconda3\\Lib\\site-packages\\openeo\\rest\\connection.py:1681\u001b[0m, in \u001b[0;36mConnection.download\u001b[1;34m(self, graph, outputfile, timeout, validate, chunk_size)\u001b[0m\n\u001b[0;32m   1679\u001b[0m pg_with_metadata \u001b[38;5;241m=\u001b[39m \u001b[38;5;28mself\u001b[39m\u001b[38;5;241m.\u001b[39m_build_request_with_process_graph(process_graph\u001b[38;5;241m=\u001b[39mgraph)\n\u001b[0;32m   1680\u001b[0m \u001b[38;5;28mself\u001b[39m\u001b[38;5;241m.\u001b[39m_preflight_validation(pg_with_metadata\u001b[38;5;241m=\u001b[39mpg_with_metadata, validate\u001b[38;5;241m=\u001b[39mvalidate)\n\u001b[1;32m-> 1681\u001b[0m response \u001b[38;5;241m=\u001b[39m \u001b[38;5;28mself\u001b[39m\u001b[38;5;241m.\u001b[39mpost(\n\u001b[0;32m   1682\u001b[0m     path\u001b[38;5;241m=\u001b[39m\u001b[38;5;124m\"\u001b[39m\u001b[38;5;124m/result\u001b[39m\u001b[38;5;124m\"\u001b[39m,\n\u001b[0;32m   1683\u001b[0m     json\u001b[38;5;241m=\u001b[39mpg_with_metadata,\n\u001b[0;32m   1684\u001b[0m     expected_status\u001b[38;5;241m=\u001b[39m\u001b[38;5;241m200\u001b[39m,\n\u001b[0;32m   1685\u001b[0m     stream\u001b[38;5;241m=\u001b[39m\u001b[38;5;28;01mTrue\u001b[39;00m,\n\u001b[0;32m   1686\u001b[0m     timeout\u001b[38;5;241m=\u001b[39mtimeout \u001b[38;5;129;01mor\u001b[39;00m DEFAULT_TIMEOUT_SYNCHRONOUS_EXECUTE,\n\u001b[0;32m   1687\u001b[0m )\n\u001b[0;32m   1689\u001b[0m \u001b[38;5;28;01mif\u001b[39;00m outputfile \u001b[38;5;129;01mis\u001b[39;00m \u001b[38;5;129;01mnot\u001b[39;00m \u001b[38;5;28;01mNone\u001b[39;00m:\n\u001b[0;32m   1690\u001b[0m     \u001b[38;5;28;01mwith\u001b[39;00m Path(outputfile)\u001b[38;5;241m.\u001b[39mopen(mode\u001b[38;5;241m=\u001b[39m\u001b[38;5;124m\"\u001b[39m\u001b[38;5;124mwb\u001b[39m\u001b[38;5;124m\"\u001b[39m) \u001b[38;5;28;01mas\u001b[39;00m f:\n",
      "File \u001b[1;32m~\\anaconda3\\Lib\\site-packages\\openeo\\rest\\connection.py:248\u001b[0m, in \u001b[0;36mRestApiConnection.post\u001b[1;34m(self, path, json, **kwargs)\u001b[0m\n\u001b[0;32m    240\u001b[0m \u001b[38;5;28;01mdef\u001b[39;00m \u001b[38;5;21mpost\u001b[39m(\u001b[38;5;28mself\u001b[39m, path: \u001b[38;5;28mstr\u001b[39m, json: Optional[\u001b[38;5;28mdict\u001b[39m] \u001b[38;5;241m=\u001b[39m \u001b[38;5;28;01mNone\u001b[39;00m, \u001b[38;5;241m*\u001b[39m\u001b[38;5;241m*\u001b[39mkwargs) \u001b[38;5;241m-\u001b[39m\u001b[38;5;241m>\u001b[39m Response:\n\u001b[0;32m    241\u001b[0m \u001b[38;5;250m    \u001b[39m\u001b[38;5;124;03m\"\"\"\u001b[39;00m\n\u001b[0;32m    242\u001b[0m \u001b[38;5;124;03m    Do POST request to REST API.\u001b[39;00m\n\u001b[0;32m    243\u001b[0m \n\u001b[1;32m   (...)\u001b[0m\n\u001b[0;32m    246\u001b[0m \u001b[38;5;124;03m    :return: response: Response\u001b[39;00m\n\u001b[0;32m    247\u001b[0m \u001b[38;5;124;03m    \"\"\"\u001b[39;00m\n\u001b[1;32m--> 248\u001b[0m     \u001b[38;5;28;01mreturn\u001b[39;00m \u001b[38;5;28mself\u001b[39m\u001b[38;5;241m.\u001b[39mrequest(\u001b[38;5;124m\"\u001b[39m\u001b[38;5;124mpost\u001b[39m\u001b[38;5;124m\"\u001b[39m, path\u001b[38;5;241m=\u001b[39mpath, json\u001b[38;5;241m=\u001b[39mjson, allow_redirects\u001b[38;5;241m=\u001b[39m\u001b[38;5;28;01mFalse\u001b[39;00m, \u001b[38;5;241m*\u001b[39m\u001b[38;5;241m*\u001b[39mkwargs)\n",
      "File \u001b[1;32m~\\anaconda3\\Lib\\site-packages\\openeo\\rest\\connection.py:830\u001b[0m, in \u001b[0;36mConnection.request\u001b[1;34m(self, method, path, headers, auth, check_error, expected_status, **kwargs)\u001b[0m\n\u001b[0;32m    823\u001b[0m     \u001b[38;5;28;01mreturn\u001b[39;00m \u001b[38;5;28msuper\u001b[39m(Connection, \u001b[38;5;28mself\u001b[39m)\u001b[38;5;241m.\u001b[39mrequest(\n\u001b[0;32m    824\u001b[0m         method\u001b[38;5;241m=\u001b[39mmethod, path\u001b[38;5;241m=\u001b[39mpath, headers\u001b[38;5;241m=\u001b[39mheaders, auth\u001b[38;5;241m=\u001b[39mauth,\n\u001b[0;32m    825\u001b[0m         check_error\u001b[38;5;241m=\u001b[39mcheck_error, expected_status\u001b[38;5;241m=\u001b[39mexpected_status, \u001b[38;5;241m*\u001b[39m\u001b[38;5;241m*\u001b[39mkwargs,\n\u001b[0;32m    826\u001b[0m     )\n\u001b[0;32m    828\u001b[0m \u001b[38;5;28;01mtry\u001b[39;00m:\n\u001b[0;32m    829\u001b[0m     \u001b[38;5;66;03m# Initial request attempt\u001b[39;00m\n\u001b[1;32m--> 830\u001b[0m     \u001b[38;5;28;01mreturn\u001b[39;00m _request()\n\u001b[0;32m    831\u001b[0m \u001b[38;5;28;01mexcept\u001b[39;00m OpenEoApiError \u001b[38;5;28;01mas\u001b[39;00m api_exc:\n\u001b[0;32m    832\u001b[0m     \u001b[38;5;28;01mif\u001b[39;00m api_exc\u001b[38;5;241m.\u001b[39mhttp_status_code \u001b[38;5;129;01min\u001b[39;00m {\u001b[38;5;241m401\u001b[39m, \u001b[38;5;241m403\u001b[39m} \u001b[38;5;129;01mand\u001b[39;00m api_exc\u001b[38;5;241m.\u001b[39mcode \u001b[38;5;241m==\u001b[39m \u001b[38;5;124m\"\u001b[39m\u001b[38;5;124mTokenInvalid\u001b[39m\u001b[38;5;124m\"\u001b[39m:\n\u001b[0;32m    833\u001b[0m         \u001b[38;5;66;03m# Auth token expired: can we refresh?\u001b[39;00m\n",
      "File \u001b[1;32m~\\anaconda3\\Lib\\site-packages\\openeo\\rest\\connection.py:823\u001b[0m, in \u001b[0;36mConnection.request.<locals>._request\u001b[1;34m()\u001b[0m\n\u001b[0;32m    822\u001b[0m \u001b[38;5;28;01mdef\u001b[39;00m \u001b[38;5;21m_request\u001b[39m():\n\u001b[1;32m--> 823\u001b[0m     \u001b[38;5;28;01mreturn\u001b[39;00m \u001b[38;5;28msuper\u001b[39m(Connection, \u001b[38;5;28mself\u001b[39m)\u001b[38;5;241m.\u001b[39mrequest(\n\u001b[0;32m    824\u001b[0m         method\u001b[38;5;241m=\u001b[39mmethod, path\u001b[38;5;241m=\u001b[39mpath, headers\u001b[38;5;241m=\u001b[39mheaders, auth\u001b[38;5;241m=\u001b[39mauth,\n\u001b[0;32m    825\u001b[0m         check_error\u001b[38;5;241m=\u001b[39mcheck_error, expected_status\u001b[38;5;241m=\u001b[39mexpected_status, \u001b[38;5;241m*\u001b[39m\u001b[38;5;241m*\u001b[39mkwargs,\n\u001b[0;32m    826\u001b[0m     )\n",
      "File \u001b[1;32m~\\anaconda3\\Lib\\site-packages\\openeo\\rest\\connection.py:186\u001b[0m, in \u001b[0;36mRestApiConnection.request\u001b[1;34m(self, method, path, headers, auth, check_error, expected_status, **kwargs)\u001b[0m\n\u001b[0;32m    184\u001b[0m expected_status \u001b[38;5;241m=\u001b[39m ensure_list(expected_status) \u001b[38;5;28;01mif\u001b[39;00m expected_status \u001b[38;5;28;01melse\u001b[39;00m []\n\u001b[0;32m    185\u001b[0m \u001b[38;5;28;01mif\u001b[39;00m check_error \u001b[38;5;129;01mand\u001b[39;00m status \u001b[38;5;241m>\u001b[39m\u001b[38;5;241m=\u001b[39m \u001b[38;5;241m400\u001b[39m \u001b[38;5;129;01mand\u001b[39;00m status \u001b[38;5;129;01mnot\u001b[39;00m \u001b[38;5;129;01min\u001b[39;00m expected_status:\n\u001b[1;32m--> 186\u001b[0m     \u001b[38;5;28mself\u001b[39m\u001b[38;5;241m.\u001b[39m_raise_api_error(resp)\n\u001b[0;32m    187\u001b[0m \u001b[38;5;28;01mif\u001b[39;00m expected_status \u001b[38;5;129;01mand\u001b[39;00m status \u001b[38;5;129;01mnot\u001b[39;00m \u001b[38;5;129;01min\u001b[39;00m expected_status:\n\u001b[0;32m    188\u001b[0m     \u001b[38;5;28;01mraise\u001b[39;00m OpenEoRestError(\u001b[38;5;124m\"\u001b[39m\u001b[38;5;124mGot status code \u001b[39m\u001b[38;5;132;01m{s!r}\u001b[39;00m\u001b[38;5;124m for `\u001b[39m\u001b[38;5;132;01m{m}\u001b[39;00m\u001b[38;5;124m \u001b[39m\u001b[38;5;132;01m{p}\u001b[39;00m\u001b[38;5;124m` (expected \u001b[39m\u001b[38;5;132;01m{e!r}\u001b[39;00m\u001b[38;5;124m) with body \u001b[39m\u001b[38;5;132;01m{body}\u001b[39;00m\u001b[38;5;124m\"\u001b[39m\u001b[38;5;241m.\u001b[39mformat(\n\u001b[0;32m    189\u001b[0m         m\u001b[38;5;241m=\u001b[39mmethod\u001b[38;5;241m.\u001b[39mupper(), p\u001b[38;5;241m=\u001b[39mpath, s\u001b[38;5;241m=\u001b[39mstatus, e\u001b[38;5;241m=\u001b[39mexpected_status, body\u001b[38;5;241m=\u001b[39mresp\u001b[38;5;241m.\u001b[39mtext)\n\u001b[0;32m    190\u001b[0m     )\n",
      "File \u001b[1;32m~\\anaconda3\\Lib\\site-packages\\openeo\\rest\\connection.py:206\u001b[0m, in \u001b[0;36mRestApiConnection._raise_api_error\u001b[1;34m(self, response)\u001b[0m\n\u001b[0;32m    204\u001b[0m     error_message \u001b[38;5;241m=\u001b[39m info\u001b[38;5;241m.\u001b[39mget(\u001b[38;5;124m\"\u001b[39m\u001b[38;5;124mmessage\u001b[39m\u001b[38;5;124m\"\u001b[39m)\n\u001b[0;32m    205\u001b[0m     \u001b[38;5;28;01mif\u001b[39;00m error_code \u001b[38;5;129;01mand\u001b[39;00m \u001b[38;5;28misinstance\u001b[39m(error_code, \u001b[38;5;28mstr\u001b[39m) \u001b[38;5;129;01mand\u001b[39;00m error_message \u001b[38;5;129;01mand\u001b[39;00m \u001b[38;5;28misinstance\u001b[39m(error_message, \u001b[38;5;28mstr\u001b[39m):\n\u001b[1;32m--> 206\u001b[0m         \u001b[38;5;28;01mraise\u001b[39;00m OpenEoApiError(\n\u001b[0;32m    207\u001b[0m             http_status_code\u001b[38;5;241m=\u001b[39mstatus_code,\n\u001b[0;32m    208\u001b[0m             code\u001b[38;5;241m=\u001b[39merror_code,\n\u001b[0;32m    209\u001b[0m             message\u001b[38;5;241m=\u001b[39merror_message,\n\u001b[0;32m    210\u001b[0m             \u001b[38;5;28mid\u001b[39m\u001b[38;5;241m=\u001b[39minfo\u001b[38;5;241m.\u001b[39mget(\u001b[38;5;124m\"\u001b[39m\u001b[38;5;124mid\u001b[39m\u001b[38;5;124m\"\u001b[39m),\n\u001b[0;32m    211\u001b[0m             url\u001b[38;5;241m=\u001b[39minfo\u001b[38;5;241m.\u001b[39mget(\u001b[38;5;124m\"\u001b[39m\u001b[38;5;124murl\u001b[39m\u001b[38;5;124m\"\u001b[39m),\n\u001b[0;32m    212\u001b[0m         )\n\u001b[0;32m    214\u001b[0m \u001b[38;5;66;03m# Failed to parse it as a compliant openEO API error: show body as-is in the exception.\u001b[39;00m\n\u001b[0;32m    215\u001b[0m text \u001b[38;5;241m=\u001b[39m response\u001b[38;5;241m.\u001b[39mtext\n",
      "\u001b[1;31mOpenEoApiError\u001b[0m: [400] NoDataAvailable: There is no data available for the given extents. Could not find data for your load_collection request with catalog ID \"Sentinel2\". The catalog query had correlation ID \"r-241106ab6fe645449e864290426594b8\" and returned 0 results. (ref: r-241106ab6fe645449e864290426594b8)"
     ]
    }
   ],
   "source": [
    "descargar()"
   ]
  },
  {
   "cell_type": "code",
   "execution_count": null,
   "id": "68c130b0-1d6c-47c8-b803-458f29a79ef4",
   "metadata": {
    "tags": []
   },
   "outputs": [],
   "source": [
    "for banda in bandas:\n",
    "    for fecha in fechas:\n",
    "        print(f\"descargando {fecha[1]}banda{banda}.TIF\")"
   ]
  },
  {
   "cell_type": "code",
   "execution_count": 13,
   "id": "a6d1ae26-164a-488a-8a62-51eb95c6cb12",
   "metadata": {},
   "outputs": [
    {
     "name": "stdout",
     "output_type": "stream",
     "text": [
      "Authenticated using refresh token.\n"
     ]
    },
    {
     "data": {
      "text/plain": [
       "<Connection to 'https://openeo.dataspace.copernicus.eu/openeo/1.2/' with OidcBearerAuth>"
      ]
     },
     "execution_count": 13,
     "metadata": {},
     "output_type": "execute_result"
    }
   ],
   "source": [
    "import openeo\n",
    "import time\n",
    "\n",
    "# First, we connect to the back-end and authenticate. \n",
    "con = openeo.connect(\"openeo.dataspace.copernicus.eu\")\n",
    "con.authenticate_oidc()"
   ]
  },
  {
   "cell_type": "code",
   "execution_count": null,
   "id": "7f3fe883-9729-4cbf-853b-f3167b778b1d",
   "metadata": {},
   "outputs": [],
   "source": []
  }
 ],
 "metadata": {
  "kernelspec": {
   "display_name": "Python 3 (ipykernel)",
   "language": "python",
   "name": "python3"
  },
  "language_info": {
   "codemirror_mode": {
    "name": "ipython",
    "version": 3
   },
   "file_extension": ".py",
   "mimetype": "text/x-python",
   "name": "python",
   "nbconvert_exporter": "python",
   "pygments_lexer": "ipython3",
   "version": "3.12.3"
  }
 },
 "nbformat": 4,
 "nbformat_minor": 5
}
