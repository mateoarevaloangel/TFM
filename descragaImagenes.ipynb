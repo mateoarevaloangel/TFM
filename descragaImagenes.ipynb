{
 "cells": [
  {
   "cell_type": "code",
   "execution_count": 21,
   "id": "2de73608-deb0-46eb-9878-8c25d2dd3d53",
   "metadata": {
    "tags": []
   },
   "outputs": [
    {
     "name": "stdout",
     "output_type": "stream",
     "text": [
      "Authenticated using refresh token.\n"
     ]
    }
   ],
   "source": [
    "import openeo\n",
    "import time\n",
    "\n",
    "# First, we connect to the back-end and authenticate. \n",
    "con = openeo.connect(\"openeo.dataspace.copernicus.eu\")\n",
    "con.authenticate_oidc()\n",
    "bandas = ['B01', 'B02', 'B03', 'B04', 'B05', 'B06', 'B07', 'B08', 'B8A', 'B09', 'B11', 'B12', 'WVP', 'AOT', 'SCL', 'sunAzimuthAngles', 'sunZenithAngles', 'viewAzimuthMean', 'viewZenithMean']\n",
    "fechas = [[\"2023-02-01\", \"2023-02-28\"],[\"2023-03-01\", \"2023-03-28\"],[\"2023-04-01\", \"2023-04-28\"],[\"2023-05-01\", \"2023-05-28\"]];\n"
   ]
  },
  {
   "cell_type": "code",
   "execution_count": 22,
   "id": "b3f36988-b87d-4811-952a-2eebc15e5eaa",
   "metadata": {
    "tags": []
   },
   "outputs": [],
   "source": [
    "def descargar():    \n",
    "    # Now that we are connected, we can initialize our datacube object with the area of interest \n",
    "    # and the time range of interest using Sentinel 1 data.\n",
    "    for banda in bandas:\n",
    "        for fecha in fechas:\n",
    "            datacube1 = con.load_collection(\n",
    "                \"SENTINEL2_L2A\",\n",
    "                spatial_extent={\"west\": 5.14, \"south\": 51.17, \"east\": 5.17, \"north\": 51.19},\n",
    "                temporal_extent = fecha,\n",
    "                bands=[banda],#[\"B02\", \"B04\", \"B08\"],\n",
    "                max_cloud_cover=35,\n",
    "            )\n",
    "\n",
    "            datacube1.download(f\"DB/{fecha[1]}banda{banda}.TIF\")\n",
    "            print(f\"descargando {fecha[1]}banda{banda}.TIF\")\n",
    "            time.sleep(30)\n",
    "\n"
   ]
  },
  {
   "cell_type": "code",
   "execution_count": 23,
   "id": "26816fed-52d5-47b4-a8bf-110657cb92ee",
   "metadata": {
    "tags": []
   },
   "outputs": [
    {
     "name": "stdout",
     "output_type": "stream",
     "text": [
      "descargando 2023-02-28bandaB01.TIF\n",
      "descargando 2023-03-28bandaB01.TIF\n",
      "descargando 2023-04-28bandaB01.TIF\n",
      "descargando 2023-05-28bandaB01.TIF\n",
      "descargando 2023-02-28bandaB02.TIF\n",
      "descargando 2023-03-28bandaB02.TIF\n",
      "descargando 2023-04-28bandaB02.TIF\n",
      "descargando 2023-05-28bandaB02.TIF\n",
      "descargando 2023-02-28bandaB03.TIF\n",
      "descargando 2023-03-28bandaB03.TIF\n",
      "descargando 2023-04-28bandaB03.TIF\n",
      "descargando 2023-05-28bandaB03.TIF\n",
      "descargando 2023-02-28bandaB04.TIF\n",
      "descargando 2023-03-28bandaB04.TIF\n",
      "descargando 2023-04-28bandaB04.TIF\n",
      "descargando 2023-05-28bandaB04.TIF\n",
      "descargando 2023-02-28bandaB05.TIF\n",
      "descargando 2023-03-28bandaB05.TIF\n",
      "descargando 2023-04-28bandaB05.TIF\n",
      "descargando 2023-05-28bandaB05.TIF\n",
      "descargando 2023-02-28bandaB06.TIF\n",
      "descargando 2023-03-28bandaB06.TIF\n",
      "descargando 2023-04-28bandaB06.TIF\n",
      "descargando 2023-05-28bandaB06.TIF\n",
      "descargando 2023-02-28bandaB07.TIF\n",
      "descargando 2023-03-28bandaB07.TIF\n",
      "descargando 2023-04-28bandaB07.TIF\n",
      "descargando 2023-05-28bandaB07.TIF\n",
      "descargando 2023-02-28bandaB08.TIF\n",
      "descargando 2023-03-28bandaB08.TIF\n",
      "descargando 2023-04-28bandaB08.TIF\n",
      "descargando 2023-05-28bandaB08.TIF\n",
      "descargando 2023-02-28bandaB8A.TIF\n",
      "descargando 2023-03-28bandaB8A.TIF\n",
      "descargando 2023-04-28bandaB8A.TIF\n",
      "descargando 2023-05-28bandaB8A.TIF\n",
      "descargando 2023-02-28bandaB09.TIF\n",
      "descargando 2023-03-28bandaB09.TIF\n",
      "descargando 2023-04-28bandaB09.TIF\n",
      "descargando 2023-05-28bandaB09.TIF\n",
      "descargando 2023-02-28bandaB11.TIF\n",
      "descargando 2023-03-28bandaB11.TIF\n",
      "descargando 2023-04-28bandaB11.TIF\n",
      "descargando 2023-05-28bandaB11.TIF\n",
      "descargando 2023-02-28bandaB12.TIF\n",
      "descargando 2023-03-28bandaB12.TIF\n",
      "descargando 2023-04-28bandaB12.TIF\n",
      "descargando 2023-05-28bandaB12.TIF\n",
      "descargando 2023-02-28bandaWVP.TIF\n",
      "descargando 2023-03-28bandaWVP.TIF\n",
      "descargando 2023-04-28bandaWVP.TIF\n",
      "descargando 2023-05-28bandaWVP.TIF\n",
      "descargando 2023-02-28bandaAOT.TIF\n",
      "descargando 2023-03-28bandaAOT.TIF\n",
      "descargando 2023-04-28bandaAOT.TIF\n",
      "descargando 2023-05-28bandaAOT.TIF\n",
      "descargando 2023-02-28bandaSCL.TIF\n",
      "descargando 2023-03-28bandaSCL.TIF\n",
      "descargando 2023-04-28bandaSCL.TIF\n",
      "descargando 2023-05-28bandaSCL.TIF\n",
      "descargando 2023-02-28bandasunAzimuthAngles.TIF\n",
      "descargando 2023-03-28bandasunAzimuthAngles.TIF\n",
      "descargando 2023-04-28bandasunAzimuthAngles.TIF\n",
      "descargando 2023-05-28bandasunAzimuthAngles.TIF\n",
      "descargando 2023-02-28bandasunZenithAngles.TIF\n",
      "descargando 2023-03-28bandasunZenithAngles.TIF\n",
      "descargando 2023-04-28bandasunZenithAngles.TIF\n",
      "descargando 2023-05-28bandasunZenithAngles.TIF\n",
      "descargando 2023-02-28bandaviewAzimuthMean.TIF\n",
      "descargando 2023-03-28bandaviewAzimuthMean.TIF\n",
      "descargando 2023-04-28bandaviewAzimuthMean.TIF\n",
      "descargando 2023-05-28bandaviewAzimuthMean.TIF\n",
      "descargando 2023-02-28bandaviewZenithMean.TIF\n",
      "descargando 2023-03-28bandaviewZenithMean.TIF\n",
      "descargando 2023-04-28bandaviewZenithMean.TIF\n",
      "descargando 2023-05-28bandaviewZenithMean.TIF\n"
     ]
    }
   ],
   "source": [
    "descargar()"
   ]
  },
  {
   "cell_type": "code",
   "execution_count": null,
   "id": "68c130b0-1d6c-47c8-b803-458f29a79ef4",
   "metadata": {
    "tags": []
   },
   "outputs": [],
   "source": [
    "for banda in bandas:\n",
    "    for fecha in fechas:\n",
    "        print(f\"descargando {fecha[1]}banda{banda}.TIF\")"
   ]
  },
  {
   "cell_type": "code",
   "execution_count": null,
   "id": "a6d1ae26-164a-488a-8a62-51eb95c6cb12",
   "metadata": {},
   "outputs": [],
   "source": []
  }
 ],
 "metadata": {
  "kernelspec": {
   "display_name": "Python 3 (ipykernel)",
   "language": "python",
   "name": "python3"
  },
  "language_info": {
   "codemirror_mode": {
    "name": "ipython",
    "version": 3
   },
   "file_extension": ".py",
   "mimetype": "text/x-python",
   "name": "python",
   "nbconvert_exporter": "python",
   "pygments_lexer": "ipython3",
   "version": "3.11.5"
  }
 },
 "nbformat": 4,
 "nbformat_minor": 5
}
