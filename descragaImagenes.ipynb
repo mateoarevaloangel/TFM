{
 "cells": [
  {
   "cell_type": "code",
   "execution_count": 10,
   "id": "2de73608-deb0-46eb-9878-8c25d2dd3d53",
   "metadata": {
    "tags": []
   },
   "outputs": [
    {
     "name": "stdout",
     "output_type": "stream",
     "text": [
      "Authenticated using refresh token.\n"
     ]
    },
    {
     "data": {
      "text/plain": [
       "<Connection to 'https://openeo.dataspace.copernicus.eu/openeo/1.2/' with OidcBearerAuth>"
      ]
     },
     "execution_count": 10,
     "metadata": {},
     "output_type": "execute_result"
    }
   ],
   "source": [
    "import openeo\n",
    "import time\n",
    "\n",
    "# First, we connect to the back-end and authenticate. \n",
    "con = openeo.connect(\"openeo.dataspace.copernicus.eu\")\n",
    "con.authenticate_oidc()\n"
   ]
  },
  {
   "cell_type": "code",
   "execution_count": 26,
   "id": "b3f36988-b87d-4811-952a-2eebc15e5eaa",
   "metadata": {
    "tags": []
   },
   "outputs": [],
   "source": [
    "bandas = ['B01', 'B02', 'B03', 'B04', 'B05', 'B06', 'B07', 'B08', 'B8A', 'B09', 'B11', 'B12', 'WVP', 'AOT', 'SCL', 'sunAzimuthAngles', 'sunZenithAngles', 'viewAzimuthMean', 'viewZenithMean']\n",
    "bandas = ['B04','B08', 'B8A']\n",
    "#fechas = [[\"2023-02-01\", \"2023-02-28\"],[\"2023-03-01\", \"2023-03-28\"],[\"2023-04-01\", \"2023-04-28\"],[\"2023-05-01\", \"2023-05-28\"]];\n",
    "#fechas = [[\"2022-09-01\", \"2022-09-28\"],[\"2022-10-01\", \"2022-10-28\"],[\"2022-11-01\", \"2022-11-28\"],[\"2022-12-01\", \"2022-12-28\"]];\n",
    "#fechas = [[\"2023-06-01\", \"2023-06-30\"],[\"2023-07-01\", \"2023-07-30\"],[\"2023-08-01\", \"2023-08-30\"],[\"2023-09-01\", \"2023-09-30\"]];\n",
    "#fechas = [[\"2023-06-01\", \"2023-06-30\"],[\"2023-07-01\", \"2023-07-30\"],[\"2023-08-01\", \"2023-08-30\"],[\"2023-09-01\", \"2023-09-30\"]\n",
    "          #,[\"2023-10-01\", \"2023-10-30\"],[\"2023-11-01\", \"2023-11-30\"],[\"2023-12-01\", \"2023-12-30\"]];\n",
    "fechas = [[\"2022-01-01\", \"2022-01-28\"]]#,[\"2022-03-01\", \"2022-03-28\"],[\"2022-04-01\", \"2022-04-28\"],[\"2022-05-01\", \"2022-05-28\"]];\n",
    "def descargar():    \n",
    "    # Now that we are connected, we can initialize our datacube object with the area of interest \n",
    "    # and the time range of interest using Sentinel 1 data.\n",
    "    for banda in bandas:\n",
    "        for fecha in fechas:\n",
    "            #con.authenticate_oidc()\n",
    "            datacube1 = con.load_collection(\n",
    "                \"SENTINEL2_L2A\",\n",
    "                spatial_extent={\"west\": 5.14, \"south\": 51.17, \"east\": 5.17, \"north\": 51.19},\n",
    "                temporal_extent = fecha,\n",
    "                bands=[banda],#[\"B02\", \"B04\", \"B08\"],\n",
    "                max_cloud_cover=35,\n",
    "            )\n",
    "\n",
    "            datacube1.download(f\"DB/{fecha[1]}banda{banda}.TIF\")\n",
    "            print(f\"descargando {fecha[1]}banda{banda}.TIF\")\n",
    "            time.sleep(30)\n",
    "\n"
   ]
  },
  {
   "cell_type": "code",
   "execution_count": 27,
   "id": "26816fed-52d5-47b4-a8bf-110657cb92ee",
   "metadata": {
    "tags": []
   },
   "outputs": [
    {
     "name": "stdout",
     "output_type": "stream",
     "text": [
      "descargando 2022-01-28bandaB04.TIF\n",
      "descargando 2022-01-28bandaB08.TIF\n",
      "descargando 2022-01-28bandaB8A.TIF\n"
     ]
    }
   ],
   "source": [
    "descargar()"
   ]
  },
  {
   "cell_type": "code",
   "execution_count": null,
   "id": "68c130b0-1d6c-47c8-b803-458f29a79ef4",
   "metadata": {
    "tags": []
   },
   "outputs": [],
   "source": [
    "for banda in bandas:\n",
    "    for fecha in fechas:\n",
    "        print(f\"descargando {fecha[1]}banda{banda}.TIF\")"
   ]
  },
  {
   "cell_type": "code",
   "execution_count": 13,
   "id": "a6d1ae26-164a-488a-8a62-51eb95c6cb12",
   "metadata": {},
   "outputs": [
    {
     "name": "stdout",
     "output_type": "stream",
     "text": [
      "Authenticated using refresh token.\n"
     ]
    },
    {
     "data": {
      "text/plain": [
       "<Connection to 'https://openeo.dataspace.copernicus.eu/openeo/1.2/' with OidcBearerAuth>"
      ]
     },
     "execution_count": 13,
     "metadata": {},
     "output_type": "execute_result"
    }
   ],
   "source": [
    "import openeo\n",
    "import time\n",
    "\n",
    "# First, we connect to the back-end and authenticate. \n",
    "con = openeo.connect(\"openeo.dataspace.copernicus.eu\")\n",
    "con.authenticate_oidc()"
   ]
  },
  {
   "cell_type": "code",
   "execution_count": null,
   "id": "7f3fe883-9729-4cbf-853b-f3167b778b1d",
   "metadata": {},
   "outputs": [],
   "source": []
  }
 ],
 "metadata": {
  "kernelspec": {
   "display_name": "Python 3 (ipykernel)",
   "language": "python",
   "name": "python3"
  },
  "language_info": {
   "codemirror_mode": {
    "name": "ipython",
    "version": 3
   },
   "file_extension": ".py",
   "mimetype": "text/x-python",
   "name": "python",
   "nbconvert_exporter": "python",
   "pygments_lexer": "ipython3",
   "version": "3.12.3"
  }
 },
 "nbformat": 4,
 "nbformat_minor": 5
}
